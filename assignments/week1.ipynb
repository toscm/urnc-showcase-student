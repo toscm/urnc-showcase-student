{
 "cells": [
  {
   "cell_type": "markdown",
   "id": "d195dc49",
   "metadata": {},
   "source": [
    "# Exercise Sheet Week 1"
   ]
  },
  {
   "cell_type": "markdown",
   "id": "3fd82aeb",
   "metadata": {
    "assignment_id": "assignment_1",
    "tags": [
     "assignment-start",
     "assignment"
    ]
   },
   "source": [
    "## Assignment 1\n",
    "Print your name"
   ]
  },
  {
   "cell_type": "code",
   "execution_count": null,
   "id": "31ac43d1",
   "metadata": {
    "assignment_id": "assignment_1",
    "tags": [
     "assignment",
     "solution"
    ]
   },
   "outputs": [],
   "source": [
    "# Enter your solution here"
   ]
  },
  {
   "cell_type": "markdown",
   "id": "ba860fa0",
   "metadata": {
    "assignment_id": "assignment_2",
    "tags": [
     "assignment-start",
     "assignment"
    ]
   },
   "source": [
    "## Assignment 2\n",
    "Print the sum of the numbers from 1 to 100"
   ]
  },
  {
   "cell_type": "code",
   "execution_count": null,
   "id": "c2994008",
   "metadata": {
    "assignment_id": "assignment_2",
    "tags": [
     "assignment",
     "solution"
    ]
   },
   "outputs": [],
   "source": [
    "# Enter your solution here"
   ]
  }
 ],
 "metadata": {
  "kernelspec": {
   "display_name": "Python 3",
   "language": "python",
   "name": "python3"
  },
  "language_info": {
   "name": "python",
   "version": "3.9"
  }
 },
 "nbformat": 4,
 "nbformat_minor": 5
}
