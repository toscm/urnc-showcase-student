{
 "cells": [
  {
   "cell_type": "markdown",
   "id": "d7f74d36",
   "metadata": {},
   "source": [
    "# Lecture 1"
   ]
  },
  {
   "cell_type": "markdown",
   "id": "6af4c73b",
   "metadata": {
    "assignment_id": "assignment_1",
    "tags": [
     "assignment-start",
     "assignment"
    ]
   },
   "source": [
    "## Assignment 1\n",
    "Print Hello World"
   ]
  },
  {
   "cell_type": "code",
   "execution_count": null,
   "id": "f4d0b99e",
   "metadata": {
    "assignment_id": "assignment_1",
    "tags": [
     "assignment",
     "solution"
    ]
   },
   "outputs": [],
   "source": [
    "# Enter your solution here"
   ]
  }
 ],
 "metadata": {
  "kernelspec": {
   "display_name": "Python 3",
   "language": "python",
   "name": "python3"
  },
  "language_info": {
   "name": "python",
   "version": "3.9"
  }
 },
 "nbformat": 4,
 "nbformat_minor": 5
}
