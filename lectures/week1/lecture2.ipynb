{
 "cells": [
  {
   "cell_type": "markdown",
   "id": "25e8c8c0",
   "metadata": {},
   "source": [
    "# Lecture 2"
   ]
  },
  {
   "cell_type": "markdown",
   "id": "246332f0",
   "metadata": {},
   "source": [
    "## Images"
   ]
  },
  {
   "cell_type": "markdown",
   "id": "4a29c65d",
   "metadata": {},
   "source": [
    "### Blue Rectangle\n",
    "\n",
    "The following image shows a blue rectangle.\n",
    "\n",
    "![Blue Rectangle](../../images/blue_rectangle.svg)"
   ]
  },
  {
   "cell_type": "markdown",
   "id": "31576989",
   "metadata": {},
   "source": [
    "### Red Circle\n",
    "\n",
    "The following image shows a red circle.\n",
    "\n",
    "![Red Circle](../../images/red_circle.svg)\n"
   ]
  },
  {
   "cell_type": "markdown",
   "id": "e7dac56d",
   "metadata": {
    "assignment_id": "assignment",
    "tags": [
     "assignment-start",
     "assignment"
    ]
   },
   "source": [
    "### Assignment\n",
    "Create a circle, rectangle or triangle with a color of your choice:\n"
   ]
  },
  {
   "cell_type": "code",
   "execution_count": null,
   "id": "8718435b",
   "metadata": {
    "assignment_id": "assignment",
    "tags": [
     "assignment",
     "solution"
    ]
   },
   "outputs": [],
   "source": [
    "# Enter your solution here"
   ]
  }
 ],
 "metadata": {
  "kernelspec": {
   "display_name": "Python 3",
   "language": "python",
   "name": "python3"
  },
  "language_info": {
   "name": "python",
   "version": "3.9"
  }
 },
 "nbformat": 4,
 "nbformat_minor": 5
}
